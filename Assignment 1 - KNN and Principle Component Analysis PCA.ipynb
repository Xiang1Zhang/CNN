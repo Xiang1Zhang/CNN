{
 "cells": [
  {
   "cell_type": "markdown",
   "metadata": {},
   "source": [
    "Assignment 1 - Xiang Zhang - 0932901\n",
    "\n",
    "This assignment is accomplished in collaboration with Chuchen Cai(1321625) Yawei Liu(1368591)."
   ]
  },
  {
   "cell_type": "code",
   "execution_count": 1,
   "metadata": {},
   "outputs": [],
   "source": [
    "import sys\n",
    "import pdb\n",
    "# sys.path.insert allows us to define paths from where we can import .py files\n",
    "sys.path.insert(0, 'C://Users//Xiang//Desktop//jupyter notebooks//assets')\n",
    "\n",
    "import mnist\n",
    "import numpy as np\n",
    "from collections import Counter"
   ]
  },
  {
   "cell_type": "markdown",
   "metadata": {},
   "source": [
    "## Data loading\n",
    "First we will load the data from the Mnist data set using the provided *mnist.py* script. To make it a bit easier, we will only use the digits 1, 4, and 6."
   ]
  },
  {
   "cell_type": "code",
   "execution_count": 2,
   "metadata": {
    "scrolled": false
   },
   "outputs": [
    {
     "name": "stdout",
     "output_type": "stream",
     "text": [
      "Mean value of training data: 33.318, Standard deviation of training data: 78.567\n",
      "Counter({1: 6742, 6: 5918, 4: 5842})\n"
     ]
    }
   ],
   "source": [
    "#mnist.init() # you only have to run this once, downloads and pickles the data set\n",
    "x_train, y_train, x_test, y_test = mnist.load()\n",
    "# only obtain 1, 4, and 6 samples\n",
    "# for all the labels in the training set, check if the label belongs to the set [1, 4, 6]. \n",
    "# list comprehensions automatically constructs a new list from the original\n",
    "print('Mean value of training data: {:.3f}, Standard deviation of training data: {:.3f}'\n",
    "      .format(x_train.mean(), x_train.std()))\n",
    "idx146_train = [label in [1, 4, 6] for label in y_train] \n",
    "y_train = y_train[idx146_train]\n",
    "x_train = x_train[idx146_train]\n",
    "\n",
    "print(Counter(y_train))\n",
    "\n",
    "# Same for the test set\n",
    "idx146_test = [label in [1,4,6] for label in y_test]\n",
    "y_test = y_test[idx146_test]\n",
    "x_test = x_test[idx146_test]\n"
   ]
  },
  {
   "cell_type": "code",
   "execution_count": 3,
   "metadata": {},
   "outputs": [
    {
     "name": "stdout",
     "output_type": "stream",
     "text": [
      "Shape of training data: (18502, 784), Shape of training labels: (18502,)\n",
      "Mean value of training data: 28.033, Standard deviation of training data: 73.068\n",
      "Shape of test data: (3075, 784), Shape of test labels: (3075,)\n"
     ]
    }
   ],
   "source": [
    "print('Shape of training data: {}, Shape of training labels: {}'.format(x_train.shape, y_train.shape))\n",
    "print('Mean value of training data: {:.3f}, Standard deviation of training data: {:.3f}'\n",
    "      .format(x_train.mean(), x_train.std()))\n",
    "print('Shape of test data: {}, Shape of test labels: {}'.format(x_test.shape, y_test.shape))"
   ]
  },
  {
   "cell_type": "markdown",
   "metadata": {},
   "source": [
    "If we look at the shape of the training data, we can see that the data is stored in vectorized form (The 28x28 pixel images are reshaped to a 1x784 array before storing). From the original 60.000 samples, we only took the 1, 4, and 6 digits so we expect approximately 18.000 samples. The resulting shapes of the training data and training labels is what we expect. Performing sanity checks such as this is generally a good idea, it reduces the amount spent debugging when an inevitable bug shows up.\n",
    "\n",
    "### Q1: Think of two other sanity checks you could perform (what expectations do we have about our data). Data can be ordinary images but also auxilary information such as for example the age of a patient with accompanying CT scan.\n",
    "\n",
    "<span style=\"color:red\">''' Write down the answer in the cell markdown here (doubleclick the text)  '''</span>.\n",
    "<ol>\n",
    "<li>The mean value of training data for the original 60.000 samples is 33.318, and I expect the mean vale of the training data for the 18502 samples is also close to 33.318. The result shows that the mean value of the downsampled training data is 28.033, which is not far from what we expected.</li>\n",
    "<br/>\n",
    "<li>We only took 1, 4, 6 digits, so we expect there will only be these 3 types of lables in the training lables. I use counter function to count the occurance of the labels in our new training set. The result shows that there are only 1, 4, 6 digits in our training lable, which is what I expect.</li>\n",
    "</ol>"
   ]
  },
  {
   "cell_type": "markdown",
   "metadata": {},
   "source": [
    "## Standardizing data\n",
    "Data standardization is an important pre-processing step for nearly all machine learning algorithms. We want to make sure all data is on the same scale.\n",
    "For example, results may vary drastically if some of the images have values in the range of [0, 1] (double) while others have values in the range of [0, 255] (uint8).\n",
    "\n",
    "The sklearn library has a variety of tools to make data pre-processing a lot easier, one of which is the StandardScaler class."
   ]
  },
  {
   "cell_type": "code",
   "execution_count": 4,
   "metadata": {},
   "outputs": [
    {
     "name": "stdout",
     "output_type": "stream",
     "text": [
      "Mean value of train data: 28.033, Standard deviation of train data: 73.068\n",
      "Mean value of test data: 28.618, Standard deviation of test data: 73.881\n",
      "Mean value of train data after scaling: 0.000, Standard deviation of train data after scaling: 0.922\n"
     ]
    }
   ],
   "source": [
    "from sklearn.preprocessing import StandardScaler\n",
    "\n",
    "# Create instance of the StandardScaler class\n",
    "sc = StandardScaler()\n",
    "# Fit the scaling parameters and transform the training data based on the training set\n",
    "x_train_scaled = sc.fit_transform(x_train.astype(float))\n",
    "# transform the test data based on train scaling parameters\n",
    "x_test_scaled = sc.transform(x_test.astype(float))\n",
    "print('Mean value of train data: {:.3f}, Standard deviation of train data: {:.3f}'\n",
    "      .format(x_train.mean(), x_train.std()))\n",
    "print('Mean value of test data: {:.3f}, Standard deviation of test data: {:.3f}'\n",
    "      .format(x_test.mean(), x_test.std()))\n",
    "print('Mean value of train data after scaling: {:.3f}, Standard deviation of train data after scaling: {:.3f}'\n",
    "      .format(x_train_scaled.mean(), x_train_scaled.std()))"
   ]
  },
  {
   "cell_type": "markdown",
   "metadata": {},
   "source": [
    "As we can see, the values of the training data is transformed to have mean 0 and a std of approximately 1. With the StandardScaler class, the mean and standard deviation are calculated with the training data. Afterwards, the test set is scaled with the same mean and standard deviation. A common mistake is to calculate seperate means and standard deviations for the train and test set. Lets consider the following example:\n",
    "\n",
    "The standard score of a sample x is calculated as:\n",
    "\n",
    "z = (x - $\\mu$) / $\\sigma$\n",
    "\n",
    "where $\\mu$ is the mean of the training samples, and $\\sigma$ is the standard deviation of the training samples\n",
    "\n",
    "Let's assume we have a simple training set consisting of 3 samples with 1 feature (let's call this feature \"length\"):\n",
    "\n",
    "* train_1: 10 cm -> class_2\n",
    "* train_2: 20 cm -> class_2\n",
    "* train_3: 30 cm -> class_1\n",
    "\n",
    "mean: 20, std.: 8.2\n",
    "\n",
    "After standardization, the transformed feature values are\n",
    "\n",
    "* train_std_1: -1.21 -> class_2\n",
    "* train_std_2: 0 -> class_2\n",
    "* train_std_3: 1.21 -> class_1\n",
    "\n",
    "Next, let's assume our model has learned to classify samples with a standardized length value < 0.6 as class_2 (class_1 otherwise). So far so good. Now, let's say we have 3 unlabeled data points that we want to classify:\n",
    "\n",
    "* new_4: 5 cm -> class ?\n",
    "* new_5: 6 cm -> class ?\n",
    "* new_6: 7 cm -> class ?\n",
    "\n",
    "### Q2: Calculate the standardized \"length\" values of the new samples using the training set parameters as well as with the new test set parameters. How does this affect the resulting predictions on the new samples."
   ]
  },
  {
   "cell_type": "markdown",
   "metadata": {},
   "source": [
    "<span style=\"color:red\">''' Write down the answer here, you are also allowed to change the cell to a code cell if you prefer. Be sure to accompany your code with comments for clarity''' </span>.\n",
    "\n",
    "Using the training set parameters:\n",
    "* new_4: -1.83 -> class_2\n",
    "* new_5: -1.71 -> class_2\n",
    "* new_6: -1.59 -> class_2\n",
    "\n",
    "Using the test set parameters:\n",
    "* new_4: -1.22 -> class_2\n",
    "* new_5: 0 -> class_2\n",
    "* new_6: 1.22 -> class_1\n",
    "\n",
    "It can be observed that the results of standarlization of the new samples are quite different, which are caused by using different set parameters to standarlize the samples. The test set should be standarlized by means of the same training set parameters instead of using the test set parameters. This is because we would like that the test set is correlated with the training data, otherwise using test set to calucale the accurancy of KNN would be pointless."
   ]
  },
  {
   "cell_type": "markdown",
   "metadata": {},
   "source": [
    "## K-nearest neighbors\n",
    "Finding clusters in data is an important topic in image analysis, machine learning and pattern recognition. Points in a cluster are similar and share certain properties. Hence, knowing the boundaries of these clusters is very useful for making a prediction about the properties of a new – unseen –  data point. An example from image processing is finding the distinction between background and foreground in a video frame. Using region properties of annotated images you can find clusters for both, which you can use to predict the back- and foreground in a new frame. Another, widely studied, example is the clustering/classification of handwritten digits. In this exercise you will implement the **K-nearest neigbors** algorithm to cluster handwritten digits. This will illustrate the power of these algorithms to find clusters in data. The use of handwritten digits allows us to visually check the clustering result of high-dimensional data in a meaningful way. Furthermore, you will see that by using **Principal Component Analysis (PCA)**, you can reduce the dimensionality significantly, while still retaining enough information to find relevant clusters.\n",
    "\n",
    "### Q3.\tCluster the data with your own implementation of the K-nearest neighbors clustering algorithm. Do this using K=1. Calculate the accuracy of your algorithm.\n",
    "\n",
    "Note: the algorithm could take quite a while since you would have to compare every test sample to every training sample depending on your cpu. Check to see if the algorithm works on a few samples before you use the entire set. For reference, on my laptop it took approximately 5 minutes."
   ]
  },
  {
   "cell_type": "code",
   "execution_count": 5,
   "metadata": {
    "scrolled": false
   },
   "outputs": [
    {
     "name": "stdout",
     "output_type": "stream",
     "text": [
      "precision:[0.9840650406504065]\n"
     ]
    }
   ],
   "source": [
    "# write knn code here\n",
    "from pylab import *\n",
    "\n",
    "label_train=y_train\n",
    "label_test=y_test\n",
    "train=x_train_scaled\n",
    "test=x_test_scaled\n",
    "\n",
    "def knn_all(train,label_train,test):    \n",
    "    res = []\n",
    "    for j in range(len(test)):\n",
    "        all_dis = [] \n",
    "        for i in range(len(train)):\n",
    "            dis = np.linalg.norm(train[i]-test[j])\n",
    "            all_dis.append(dis)\n",
    "        sorted_dis = np.argsort(all_dis)\n",
    "        res.append(label_train[sorted_dis[1]])\n",
    "    return res\n",
    "\n",
    "\n",
    "def calc_precision(res,label_test,test):\n",
    "    pre=[]\n",
    "    precision=0\n",
    "    for i in range(len(test)):\n",
    "        if res[i]==label_test[i]:\n",
    "            precision+=1\n",
    "    pre.append(precision/len(test))\n",
    "    return pre\n",
    "\n",
    "\n",
    "res=knn_all(train,label_train,test)\n",
    "\n",
    "print(\"precision:\"+str(calc_precision(res,label_test,test)))"
   ]
  },
  {
   "cell_type": "markdown",
   "metadata": {},
   "source": [
    "Great! The accuracy on the test set is already very high (should be 96%+). However, this problem is not very complex and the image size is relatively small (28x28). In complex real-world problems, the performance of this algorithm will plummet. \n",
    "\n",
    "### Q4. Give two reasons why knn on direct pixel values not a good choice for most real-world problems. Hint 1: Try running your 1-nn algorithm with more digits. What do you observe? Hint 2: Curse of dimensionality.\n",
    "\n",
    "<span style=\"color:red\">''' Answer to Q3 goes here '''</span>.\n",
    "\n",
    "* I try to implement my 1-nn algorithm with more digits, and I find that the computation time lasts even longer than before but gives less accurate result. In real-world problems, the data set is even larger, which would consume extremly long time to compute.\n",
    "\n",
    "\n",
    "* At the beginning, the accurancy of classification will increase as the dimension goes up. However, the accurancy will not increase anymore when a value of dimension reaches. On the contrary, the accurancy will even decrease as the dimension grows even larger. In real-world problems, it is very likely that the data set has multiple dimebsions. Therefore, the curse of dimensionality would be a pain in real-world problem."
   ]
  },
  {
   "cell_type": "markdown",
   "metadata": {},
   "source": [
    "## Principle Component Analysis\n",
    "In order to overcome the unscalability of training classifyers on pixel values directly, dimensionality reduction is neccesary. Principle component analysis (PCA) is an unsupervised dimensionality reduction technique which we will implement in this assignment. The original feature vector (784 dimensions) will be reduced to *k* dimensions.\n",
    "\n",
    "PCA is implemented in the following steps:\n",
    "\n",
    "* Construct the covariance matrix.\n",
    "* Decompose the covariance matrix into its eigenvectors and eigenvalues.\n",
    "* Sort the eigenvalues by decreasing order to rank the corresponding eigenvectors.\n",
    "* Select the *k* eigenvectors which correspond to the *k* largest eigenvalues, where *k* is the dimensionality of the new feature subspace.\n",
    "* Construct a projection matrix **W** from the \"top\" *k* eigenvectors.\n",
    "* Transform the d-dimensional input data set using **W** to obtain a new k-dimensional feature subspace\n",
    "\n",
    "### Q5a. calculate the eigendecomposition of the covariance matrix. Hint: use np.cov() and np.linalg.eigh()"
   ]
  },
  {
   "cell_type": "code",
   "execution_count": 6,
   "metadata": {},
   "outputs": [],
   "source": [
    "# Calculate eigenvalues and eigenvectors here\n",
    "cov=np.cov(x_train_scaled.T)\n",
    "eig_val, eig_vec = np.linalg.eig(cov)"
   ]
  },
  {
   "cell_type": "markdown",
   "metadata": {},
   "source": [
    "### Q5b. Calculate the cumulative and explained variance. Remember: the eigenvalues have to be sorted in decreasing order."
   ]
  },
  {
   "cell_type": "code",
   "execution_count": 7,
   "metadata": {},
   "outputs": [],
   "source": [
    "# calculate total and explained variance here. If you name the variables cum_var_exp and var_exp the plotting function\n",
    "# in the next cell will work nicely\n",
    "\n",
    "eig_pairs = [(np.abs(eig_val[i]), eig_vec[:,i]) for i in range(len(eig_val))]\n",
    "eig_pairs.sort(key=lambda tup: tup[0], reverse=True)\n",
    "\n",
    "tot = sum(eig_val)\n",
    "var_exp = [(i / tot)*100 for i in sorted(eig_val, reverse=True)]\n",
    "cum_var_exp = np.cumsum(var_exp)\n"
   ]
  },
  {
   "cell_type": "code",
   "execution_count": 8,
   "metadata": {},
   "outputs": [
    {
     "name": "stderr",
     "output_type": "stream",
     "text": [
      "C:\\Users\\Xiang\\Anaconda3\\lib\\site-packages\\matplotlib\\transforms.py:827: ComplexWarning: Casting complex values to real discards the imaginary part\n",
      "  points = np.array(args, dtype=float).reshape(2, 2)\n",
      "C:\\Users\\Xiang\\Anaconda3\\lib\\site-packages\\numpy\\core\\numeric.py:501: ComplexWarning: Casting complex values to real discards the imaginary part\n",
      "  return array(a, dtype, copy=False, order=order)\n"
     ]
    },
    {
     "data": {
      "image/png": "[encoded data removed]",
      "text/plain": [
       "<Figure size 432x288 with 1 Axes>"
      ]
     },
     "metadata": {
      "needs_background": "light"
     },
     "output_type": "display_data"
    }
   ],
   "source": [
    "import matplotlib.pyplot as plt\n",
    "# This function will plit the first num_features in order of importance. \n",
    "\n",
    "num_features = 20\n",
    "\n",
    "plt.bar(range(1, num_features+1), var_exp[:num_features], alpha=0.5, align='center',\n",
    "        label='individual explained variance')\n",
    "plt.step(range(1, num_features+1), cum_var_exp[:num_features], where='mid',\n",
    "         label='cumulative explained variance')\n",
    "plt.ylabel('Explained variance ratio')\n",
    "plt.xlabel('Principal components')\n",
    "plt.legend(loc='best')\n",
    "plt.tight_layout()\n",
    "# plt.savefig('./figures/pca1.png', dpi=300)\n",
    "plt.show()"
   ]
  },
  {
   "cell_type": "markdown",
   "metadata": {},
   "source": [
    "### Q5c. Construct **W** with *k=2* (the first two features with most explained variance). Hint: **W** should have shape (784,2)"
   ]
  },
  {
   "cell_type": "code",
   "execution_count": 9,
   "metadata": {},
   "outputs": [
    {
     "name": "stdout",
     "output_type": "stream",
     "text": [
      "Matrix W:\n",
      " [[0.+0.j 0.+0.j]\n",
      " [0.+0.j 0.+0.j]\n",
      " [0.+0.j 0.+0.j]\n",
      " ...\n",
      " [0.+0.j 0.+0.j]\n",
      " [0.+0.j 0.+0.j]\n",
      " [0.+0.j 0.+0.j]]\n"
     ]
    }
   ],
   "source": [
    "# Construct W here, the next cell will plot the clusters for you based on the first two principle components\n",
    "\n",
    "W = np.hstack((eig_pairs[0][1].reshape(784,1), \n",
    "                      eig_pairs[1][1].reshape(784,1)))\n",
    "\n",
    "print('Matrix W:\\n', W)"
   ]
  },
  {
   "cell_type": "markdown",
   "metadata": {},
   "source": [
    "The following cell calculates the new training features and plots them to show the clustered samples. If PCA was implemented correctly you can clearly see a clustering in the new feature space. The clustering is not perfect but we reduced the dimensionality of our feature space drastically"
   ]
  },
  {
   "cell_type": "code",
   "execution_count": 10,
   "metadata": {
    "scrolled": true
   },
   "outputs": [
    {
     "name": "stderr",
     "output_type": "stream",
     "text": [
      "C:\\Users\\Xiang\\Anaconda3\\lib\\site-packages\\numpy\\core\\numeric.py:553: ComplexWarning: Casting complex values to real discards the imaginary part\n",
      "  return array(a, dtype, copy=False, order=order, subok=True)\n"
     ]
    },
    {
     "data": {
      "image/png": "[encoded data removed]",
      "text/plain": [
       "<Figure size 432x288 with 1 Axes>"
      ]
     },
     "metadata": {
      "needs_background": "light"
     },
     "output_type": "display_data"
    }
   ],
   "source": [
    "from matplotlib.colors import ListedColormap\n",
    "\n",
    "x_train_pca = x_train_scaled.dot(W)\n",
    "markers = ('s', 'x', 'o', '^', 'v')\n",
    "colors = ('red', 'blue', 'lightgreen', 'gray', 'cyan')\n",
    "labels = (1, 4, 6)\n",
    "cmap = ListedColormap(colors[:len(np.unique(y_train))])\n",
    "\n",
    "\n",
    "for label, c, m in zip(labels, colors, markers):\n",
    "    plt.scatter(x_train_pca[y_train == label, 0][:100], \n",
    "                x_train_pca[y_train == label, 1][:100], \n",
    "                c=c, label=label, marker=m)\n",
    "\n",
    "plt.xlabel('PC 1')\n",
    "plt.ylabel('PC 2')\n",
    "plt.legend(loc='lower left')\n",
    "plt.tight_layout()\n",
    "# plt.savefig('./figures/pca2.png', dpi=300)\n",
    "plt.show()"
   ]
  },
  {
   "cell_type": "markdown",
   "metadata": {},
   "source": [
    "## PCA in sklearn\n",
    "While implementing your own algorithms is good excercise, most commonly used algorithms have already been efficiently implemented. Both PCA and KNN have been implemented in the sklearn library. Look through the code below make sure you understands how the sklearn functions are used."
   ]
  },
  {
   "cell_type": "code",
   "execution_count": 11,
   "metadata": {},
   "outputs": [],
   "source": [
    "from sklearn.decomposition import PCA\n",
    "\n",
    "pca = PCA(n_components=25) # instantiate an instance of the PCA class with 25 components\n",
    "x_train_pca = pca.fit_transform(x_train_scaled) # the fit_transform function operates the same way as in the StandardScaler class\n",
    "x_test_pca = pca.transform(x_test_scaled)"
   ]
  },
  {
   "cell_type": "code",
   "execution_count": 12,
   "metadata": {},
   "outputs": [
    {
     "name": "stdout",
     "output_type": "stream",
     "text": [
      "Mnist test accuracy: 98.992%.\n"
     ]
    }
   ],
   "source": [
    "from sklearn.neighbors import KNeighborsClassifier\n",
    "\n",
    "knn = KNeighborsClassifier(n_neighbors=3)\n",
    "knn.fit(x_train_pca, y_train)\n",
    "test_prediction = knn.predict(x_test_pca)\n",
    "\n",
    "\n",
    "\n",
    "accuracy = np.sum(test_prediction == y_test)/len(y_test)\n",
    "print('Mnist test accuracy: {:.3f}%.'.format(accuracy*100))\n"
   ]
  },
  {
   "cell_type": "markdown",
   "metadata": {},
   "source": [
    "More than 99%! Not bad at all. Below we plot the decision region based on the first two principle components."
   ]
  },
  {
   "cell_type": "code",
   "execution_count": 13,
   "metadata": {},
   "outputs": [],
   "source": [
    "def plot_decision_regions(X, y, classifier, resolution=0.02, plot_boundary=False):\n",
    "\n",
    "    # setup marker generator and color map\n",
    "    markers = ('s', 'x', 'o', '^', 'v')\n",
    "    colors = ('red', 'blue', 'lightgreen', 'gray', 'cyan')\n",
    "    cmap = ListedColormap(colors[:len(np.unique(y))])\n",
    "\n",
    "    # plot the decision surface (not possible for KNN for more than 2 training dimensions)\n",
    "    \n",
    "    if plot_boundary:\n",
    "        x1_min, x1_max = X[:, 0].min() - 1, X[:, 0].max() + 1\n",
    "        x2_min, x2_max = X[:, 1].min() - 1, X[:, 1].max() + 1\n",
    "        xx1, xx2 = np.meshgrid(np.arange(x1_min, x1_max, resolution),\n",
    "                               np.arange(x2_min, x2_max, resolution))\n",
    "        Z = classifier.predict(np.array([xx1.ravel(), xx2.ravel()]).T)\n",
    "        Z = Z.reshape(xx1.shape)\n",
    "        plt.contourf(xx1, xx2, Z, alpha=0.4, cmap=cmap)\n",
    "        plt.xlim(xx1.min(), xx1.max())\n",
    "        plt.ylim(xx2.min(), xx2.max())\n",
    "\n",
    "    # plot class samples\n",
    "    for idx, cl in enumerate(np.unique(y)):\n",
    "        plt.scatter(x=X[y == cl, 0][:100], \n",
    "                    y=X[y == cl, 1][:100],\n",
    "                    alpha=0.6, \n",
    "                    c=cmap(idx),\n",
    "                    edgecolor='black',\n",
    "                    marker=markers[idx], \n",
    "                    label=cl)"
   ]
  },
  {
   "cell_type": "code",
   "execution_count": 14,
   "metadata": {
    "scrolled": true
   },
   "outputs": [
    {
     "name": "stderr",
     "output_type": "stream",
     "text": [
      "'c' argument looks like a single numeric RGB or RGBA sequence, which should be avoided as value-mapping will have precedence in case its length matches with 'x' & 'y'.  Please use a 2-D array with a single row if you really want to specify the same RGB or RGBA value for all points.\n",
      "'c' argument looks like a single numeric RGB or RGBA sequence, which should be avoided as value-mapping will have precedence in case its length matches with 'x' & 'y'.  Please use a 2-D array with a single row if you really want to specify the same RGB or RGBA value for all points.\n",
      "'c' argument looks like a single numeric RGB or RGBA sequence, which should be avoided as value-mapping will have precedence in case its length matches with 'x' & 'y'.  Please use a 2-D array with a single row if you really want to specify the same RGB or RGBA value for all points.\n"
     ]
    },
    {
     "data": {
      "image/png": "[encoded data removed]",
      "text/plain": [
       "<Figure size 432x288 with 1 Axes>"
      ]
     },
     "metadata": {
      "needs_background": "light"
     },
     "output_type": "display_data"
    }
   ],
   "source": [
    "pca = PCA(n_components=2)\n",
    "x_train_pca = pca.fit_transform(x_train_scaled)\n",
    "x_test_pca = pca.transform(x_test_scaled)\n",
    "knn = KNeighborsClassifier(n_neighbors=3)\n",
    "knn.fit(x_train_pca, y_train)\n",
    "\n",
    "plot_decision_regions(x_test_pca, y_test, classifier=knn, plot_boundary=True)\n",
    "plt.xlabel('PC 1')\n",
    "plt.ylabel('PC 2')\n",
    "plt.legend(loc='lower left')\n",
    "plt.tight_layout()\n",
    "# plt.savefig('./figures/pca3.png', dpi=300)\n",
    "plt.show()"
   ]
  },
  {
   "cell_type": "code",
   "execution_count": null,
   "metadata": {},
   "outputs": [],
   "source": []
  }
 ],
 "metadata": {
  "kernelspec": {
   "display_name": "Python 3",
   "language": "python",
   "name": "python3"
  },
  "language_info": {
   "codemirror_mode": {
    "name": "ipython",
    "version": 3
   },
   "file_extension": ".py",
   "mimetype": "text/x-python",
   "name": "python",
   "nbconvert_exporter": "python",
   "pygments_lexer": "ipython3",
   "version": "3.7.1"
  }
 },
 "nbformat": 4,
 "nbformat_minor": 2
}
